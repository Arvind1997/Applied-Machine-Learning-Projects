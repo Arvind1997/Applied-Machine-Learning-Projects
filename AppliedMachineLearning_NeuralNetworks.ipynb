{
  "nbformat": 4,
  "nbformat_minor": 0,
  "metadata": {
    "colab": {
      "provenance": []
    },
    "kernelspec": {
      "name": "python3",
      "display_name": "Python 3"
    },
    "language_info": {
      "name": "python"
    },
    "accelerator": "GPU",
    "gpuClass": "standard"
  },
  "cells": [
    {
      "cell_type": "code",
      "source": [
        "!sudo apt update\n",
        "!sudo apt autoremove\n",
        "!sudo apt upgrade\n",
        "!sudo apt install python3"
      ],
      "metadata": {
        "colab": {
          "base_uri": "https://localhost:8080/"
        },
        "id": "vZ_1pWc9gVzS",
        "outputId": "acf32020-f193-4da8-8923-5fb4fbcf3e6d"
      },
      "execution_count": null,
      "outputs": [
        {
          "output_type": "stream",
          "name": "stdout",
          "text": [
            "\u001b[33m\r0% [Working]\u001b[0m\r            \rGet:1 https://cloud.r-project.org/bin/linux/ubuntu bionic-cran40/ InRelease [3,626 B]\n",
            "\u001b[33m\r0% [Connecting to archive.ubuntu.com] [Waiting for headers] [1 InRelease 3,626 \u001b[0m\u001b[33m\r0% [Connecting to archive.ubuntu.com] [Waiting for headers] [Waiting for header\u001b[0m\u001b[33m\r0% [1 InRelease gpgv 3,626 B] [Connecting to archive.ubuntu.com] [Waiting for h\u001b[0m\r                                                                               \rIgn:2 https://developer.download.nvidia.com/compute/machine-learning/repos/ubuntu1804/x86_64  InRelease\n",
            "\u001b[33m\r0% [1 InRelease gpgv 3,626 B] [Connecting to archive.ubuntu.com] [Waiting for h\u001b[0m\r                                                                               \rGet:3 https://developer.download.nvidia.com/compute/cuda/repos/ubuntu1804/x86_64  InRelease [1,581 B]\n",
            "\u001b[33m\r0% [1 InRelease gpgv 3,626 B] [Connecting to archive.ubuntu.com] [Waiting for h\u001b[0m\r                                                                               \rHit:4 https://developer.download.nvidia.com/compute/machine-learning/repos/ubuntu1804/x86_64  Release\n",
            "Get:5 http://security.ubuntu.com/ubuntu bionic-security InRelease [88.7 kB]\n",
            "Hit:6 http://archive.ubuntu.com/ubuntu bionic InRelease\n",
            "Get:7 http://ppa.launchpad.net/c2d4u.team/c2d4u4.0+/ubuntu bionic InRelease [15.9 kB]\n",
            "Get:8 https://developer.download.nvidia.com/compute/cuda/repos/ubuntu1804/x86_64  Packages [1,056 kB]\n",
            "Get:9 http://archive.ubuntu.com/ubuntu bionic-updates InRelease [88.7 kB]\n",
            "Get:11 http://archive.ubuntu.com/ubuntu bionic-backports InRelease [83.3 kB]\n",
            "Get:12 http://security.ubuntu.com/ubuntu bionic-security/universe amd64 Packages [1,567 kB]\n",
            "Hit:13 http://ppa.launchpad.net/cran/libgit2/ubuntu bionic InRelease\n",
            "Get:14 http://archive.ubuntu.com/ubuntu bionic-updates/main amd64 Packages [3,519 kB]\n",
            "Hit:15 http://ppa.launchpad.net/deadsnakes/ppa/ubuntu bionic InRelease\n",
            "Get:16 http://security.ubuntu.com/ubuntu bionic-security/restricted amd64 Packages [1,307 kB]\n",
            "Get:17 http://security.ubuntu.com/ubuntu bionic-security/multiverse amd64 Packages [22.9 kB]\n",
            "Get:18 http://security.ubuntu.com/ubuntu bionic-security/main amd64 Packages [3,094 kB]\n",
            "Get:19 http://ppa.launchpad.net/graphics-drivers/ppa/ubuntu bionic InRelease [21.3 kB]\n",
            "Get:20 http://archive.ubuntu.com/ubuntu bionic-updates/multiverse amd64 Packages [30.0 kB]\n",
            "Get:21 http://archive.ubuntu.com/ubuntu bionic-updates/restricted amd64 Packages [1,347 kB]\n",
            "Get:22 http://ppa.launchpad.net/c2d4u.team/c2d4u4.0+/ubuntu bionic/main Sources [2,234 kB]\n",
            "Get:23 http://ppa.launchpad.net/c2d4u.team/c2d4u4.0+/ubuntu bionic/main amd64 Packages [1,143 kB]\n",
            "Get:24 http://ppa.launchpad.net/graphics-drivers/ppa/ubuntu bionic/main amd64 Packages [40.8 kB]\n",
            "Fetched 15.7 MB in 4s (3,860 kB/s)\n",
            "Reading package lists... Done\n",
            "Building dependency tree       \n",
            "Reading state information... Done\n",
            "19 packages can be upgraded. Run 'apt list --upgradable' to see them.\n",
            "Reading package lists... Done\n",
            "Building dependency tree       \n",
            "Reading state information... Done\n",
            "The following packages will be REMOVED:\n",
            "  libnvidia-common-460\n",
            "0 upgraded, 0 newly installed, 1 to remove and 19 not upgraded.\n",
            "After this operation, 35.8 kB disk space will be freed.\n",
            "(Reading database ... 124015 files and directories currently installed.)\n",
            "Removing libnvidia-common-460 (460.106.00-0ubuntu1) ...\n",
            "Reading package lists... Done\n",
            "Building dependency tree       \n",
            "Reading state information... Done\n",
            "Calculating upgrade... Done\n",
            "The following NEW packages will be installed:\n",
            "  nvidia-prime\n",
            "The following packages have been kept back:\n",
            "  cuda-drivers libcudnn8 libcudnn8-dev libnccl-dev libnccl2\n",
            "The following packages will be upgraded:\n",
            "  binutils binutils-common binutils-x86-64-linux-gnu ca-certificates\n",
            "  libbinutils libxml2 libxml2-dev libxnvctrl0 linux-libc-dev login\n",
            "  nvidia-modprobe nvidia-settings passwd r-cran-pkgbuild\n",
            "14 upgraded, 1 newly installed, 0 to remove and 5 not upgraded.\n",
            "Need to get 7,365 kB of archives.\n",
            "After this operation, 92.2 kB of additional disk space will be used.\n",
            "Get:1 https://developer.download.nvidia.com/compute/cuda/repos/ubuntu1804/x86_64  libxnvctrl0 525.60.13-0ubuntu1 [21.3 kB]\n",
            "Get:2 https://developer.download.nvidia.com/compute/cuda/repos/ubuntu1804/x86_64  nvidia-settings 525.60.13-0ubuntu1 [932 kB]\n",
            "Get:3 https://developer.download.nvidia.com/compute/cuda/repos/ubuntu1804/x86_64  nvidia-modprobe 525.60.13-0ubuntu1 [20.4 kB]\n",
            "Get:4 http://archive.ubuntu.com/ubuntu bionic-updates/main amd64 login amd64 1:4.5-1ubuntu2.5 [307 kB]\n",
            "Get:5 http://security.ubuntu.com/ubuntu bionic-security/main amd64 binutils-x86-64-linux-gnu amd64 2.30-21ubuntu1~18.04.8 [1,839 kB]\n",
            "Get:6 http://ppa.launchpad.net/c2d4u.team/c2d4u4.0+/ubuntu bionic/main amd64 r-cran-pkgbuild all 1.4.0-1cran1.1804.0 [172 kB]\n",
            "Get:7 http://archive.ubuntu.com/ubuntu bionic-updates/main amd64 passwd amd64 1:4.5-1ubuntu2.5 [818 kB]\n",
            "Get:8 http://archive.ubuntu.com/ubuntu bionic-updates/main amd64 ca-certificates all 20211016ubuntu0.18.04.1 [140 kB]\n",
            "Get:9 http://archive.ubuntu.com/ubuntu bionic-updates/main amd64 libxml2-dev amd64 2.9.4+dfsg1-6.1ubuntu1.8 [757 kB]\n",
            "Get:10 http://archive.ubuntu.com/ubuntu bionic-updates/main amd64 libxml2 amd64 2.9.4+dfsg1-6.1ubuntu1.8 [664 kB]\n",
            "Get:11 http://archive.ubuntu.com/ubuntu bionic-updates/main amd64 linux-libc-dev amd64 4.15.0-200.211 [997 kB]\n",
            "Get:12 http://archive.ubuntu.com/ubuntu bionic-updates/main amd64 nvidia-prime all 0.8.16~0.18.04.1 [9,224 B]\n",
            "Get:13 http://security.ubuntu.com/ubuntu bionic-security/main amd64 libbinutils amd64 2.30-21ubuntu1~18.04.8 [488 kB]\n",
            "Get:14 http://security.ubuntu.com/ubuntu bionic-security/main amd64 binutils amd64 2.30-21ubuntu1~18.04.8 [3,388 B]\n",
            "Get:15 http://security.ubuntu.com/ubuntu bionic-security/main amd64 binutils-common amd64 2.30-21ubuntu1~18.04.8 [197 kB]\n",
            "Fetched 7,365 kB in 1s (5,079 kB/s)\n",
            "debconf: unable to initialize frontend: Dialog\n",
            "debconf: (No usable dialog-like program is installed, so the dialog based frontend cannot be used. at /usr/share/perl5/Debconf/FrontEnd/Dialog.pm line 76, <> line 15.)\n",
            "debconf: falling back to frontend: Readline\n",
            "debconf: unable to initialize frontend: Readline\n",
            "debconf: (This frontend requires a controlling tty.)\n",
            "debconf: falling back to frontend: Teletype\n",
            "dpkg-preconfigure: unable to re-open stdin: \n",
            "(Reading database ... 124010 files and directories currently installed.)\n",
            "Preparing to unpack .../login_1%3a4.5-1ubuntu2.5_amd64.deb ...\n",
            "Unpacking login (1:4.5-1ubuntu2.5) over (1:4.5-1ubuntu2.3) ...\n",
            "Setting up login (1:4.5-1ubuntu2.5) ...\n",
            "(Reading database ... 124010 files and directories currently installed.)\n",
            "Preparing to unpack .../passwd_1%3a4.5-1ubuntu2.5_amd64.deb ...\n",
            "Unpacking passwd (1:4.5-1ubuntu2.5) over (1:4.5-1ubuntu2.3) ...\n",
            "Setting up passwd (1:4.5-1ubuntu2.5) ...\n",
            "(Reading database ... 124010 files and directories currently installed.)\n",
            "Preparing to unpack .../00-ca-certificates_20211016ubuntu0.18.04.1_all.deb ...\n",
            "Unpacking ca-certificates (20211016ubuntu0.18.04.1) over (20211016~18.04.1) ...\n",
            "Preparing to unpack .../01-libxml2-dev_2.9.4+dfsg1-6.1ubuntu1.8_amd64.deb ...\n",
            "Unpacking libxml2-dev:amd64 (2.9.4+dfsg1-6.1ubuntu1.8) over (2.9.4+dfsg1-6.1ubuntu1.7) ...\n",
            "Preparing to unpack .../02-libxml2_2.9.4+dfsg1-6.1ubuntu1.8_amd64.deb ...\n",
            "Unpacking libxml2:amd64 (2.9.4+dfsg1-6.1ubuntu1.8) over (2.9.4+dfsg1-6.1ubuntu1.7) ...\n",
            "Preparing to unpack .../03-binutils-x86-64-linux-gnu_2.30-21ubuntu1~18.04.8_amd64.deb ...\n",
            "Unpacking binutils-x86-64-linux-gnu (2.30-21ubuntu1~18.04.8) over (2.30-21ubuntu1~18.04.7) ...\n",
            "Preparing to unpack .../04-libbinutils_2.30-21ubuntu1~18.04.8_amd64.deb ...\n",
            "Unpacking libbinutils:amd64 (2.30-21ubuntu1~18.04.8) over (2.30-21ubuntu1~18.04.7) ...\n",
            "Preparing to unpack .../05-binutils_2.30-21ubuntu1~18.04.8_amd64.deb ...\n",
            "Unpacking binutils (2.30-21ubuntu1~18.04.8) over (2.30-21ubuntu1~18.04.7) ...\n",
            "Preparing to unpack .../06-binutils-common_2.30-21ubuntu1~18.04.8_amd64.deb ...\n",
            "Unpacking binutils-common:amd64 (2.30-21ubuntu1~18.04.8) over (2.30-21ubuntu1~18.04.7) ...\n",
            "Preparing to unpack .../07-libxnvctrl0_525.60.13-0ubuntu1_amd64.deb ...\n",
            "Unpacking libxnvctrl0:amd64 (525.60.13-0ubuntu1) over (520.61.05-0ubuntu1) ...\n",
            "Preparing to unpack .../08-linux-libc-dev_4.15.0-200.211_amd64.deb ...\n",
            "Unpacking linux-libc-dev:amd64 (4.15.0-200.211) over (4.15.0-194.205) ...\n",
            "Selecting previously unselected package nvidia-prime.\n",
            "Preparing to unpack .../09-nvidia-prime_0.8.16~0.18.04.1_all.deb ...\n",
            "Unpacking nvidia-prime (0.8.16~0.18.04.1) ...\n",
            "Preparing to unpack .../10-nvidia-settings_525.60.13-0ubuntu1_amd64.deb ...\n",
            "Unpacking nvidia-settings (525.60.13-0ubuntu1) over (520.61.05-0ubuntu1) ...\n",
            "Preparing to unpack .../11-r-cran-pkgbuild_1.4.0-1cran1.1804.0_all.deb ...\n",
            "Unpacking r-cran-pkgbuild (1.4.0-1cran1.1804.0) over (1.3.1-1cran1.1804.0) ...\n",
            "Preparing to unpack .../12-nvidia-modprobe_525.60.13-0ubuntu1_amd64.deb ...\n",
            "Unpacking nvidia-modprobe (525.60.13-0ubuntu1) over (520.61.05-0ubuntu1) ...\n",
            "Setting up nvidia-prime (0.8.16~0.18.04.1) ...\n",
            "Setting up linux-libc-dev:amd64 (4.15.0-200.211) ...\n",
            "Setting up libxml2:amd64 (2.9.4+dfsg1-6.1ubuntu1.8) ...\n",
            "Setting up libxml2-dev:amd64 (2.9.4+dfsg1-6.1ubuntu1.8) ...\n",
            "Setting up binutils-common:amd64 (2.30-21ubuntu1~18.04.8) ...\n",
            "Setting up nvidia-modprobe (525.60.13-0ubuntu1) ...\n",
            "Setting up ca-certificates (20211016ubuntu0.18.04.1) ...\n",
            "debconf: unable to initialize frontend: Dialog\n",
            "debconf: (No usable dialog-like program is installed, so the dialog based frontend cannot be used. at /usr/share/perl5/Debconf/FrontEnd/Dialog.pm line 76.)\n",
            "debconf: falling back to frontend: Readline\n",
            "Updating certificates in /etc/ssl/certs...\n",
            "rehash: warning: skipping ca-certificates.crt,it does not contain exactly one certificate or CRL\n",
            "0 added, 3 removed; done.\n",
            "Setting up r-cran-pkgbuild (1.4.0-1cran1.1804.0) ...\n",
            "Setting up libxnvctrl0:amd64 (525.60.13-0ubuntu1) ...\n",
            "Setting up libbinutils:amd64 (2.30-21ubuntu1~18.04.8) ...\n",
            "Setting up nvidia-settings (525.60.13-0ubuntu1) ...\n",
            "Setting up binutils-x86-64-linux-gnu (2.30-21ubuntu1~18.04.8) ...\n",
            "Setting up binutils (2.30-21ubuntu1~18.04.8) ...\n",
            "Processing triggers for libc-bin (2.27-3ubuntu1.6) ...\n",
            "Processing triggers for man-db (2.8.3-2ubuntu0.1) ...\n",
            "Processing triggers for mime-support (3.60ubuntu1) ...\n",
            "Processing triggers for ca-certificates (20211016ubuntu0.18.04.1) ...\n",
            "Updating certificates in /etc/ssl/certs...\n",
            "0 added, 0 removed; done.\n",
            "Running hooks in /etc/ca-certificates/update.d...\n",
            "\n",
            "done.\n",
            "done.\n",
            "Reading package lists... Done\n",
            "Building dependency tree       \n",
            "Reading state information... Done\n",
            "python3 is already the newest version (3.6.7-1~18.04).\n",
            "python3 set to manually installed.\n",
            "0 upgraded, 0 newly installed, 0 to remove and 5 not upgraded.\n"
          ]
        }
      ]
    },
    {
      "cell_type": "code",
      "source": [
        "!python --version\n",
        "\n",
        "import sys\n",
        "print(\"version:\", sys.version)"
      ],
      "metadata": {
        "colab": {
          "base_uri": "https://localhost:8080/"
        },
        "id": "Lcid0OzYgiS0",
        "outputId": "eb301ff3-8e35-4f50-c396-e49f10fec770"
      },
      "execution_count": null,
      "outputs": [
        {
          "output_type": "stream",
          "name": "stdout",
          "text": [
            "Python 3.8.15\n",
            "version: 3.8.15 (default, Oct 12 2022, 19:14:39) \n",
            "[GCC 7.5.0]\n"
          ]
        }
      ]
    },
    {
      "cell_type": "code",
      "source": [
        "!pip install -U pandas"
      ],
      "metadata": {
        "colab": {
          "base_uri": "https://localhost:8080/"
        },
        "id": "d0jmi8vNglOw",
        "outputId": "7a0966a6-24a5-4a1e-e808-eb31bdfde108"
      },
      "execution_count": null,
      "outputs": [
        {
          "output_type": "stream",
          "name": "stdout",
          "text": [
            "Looking in indexes: https://pypi.org/simple, https://us-python.pkg.dev/colab-wheels/public/simple/\n",
            "Requirement already satisfied: pandas in /usr/local/lib/python3.8/dist-packages (1.3.5)\n",
            "Collecting pandas\n",
            "  Downloading pandas-1.5.2-cp38-cp38-manylinux_2_17_x86_64.manylinux2014_x86_64.whl (12.2 MB)\n",
            "\u001b[K     |████████████████████████████████| 12.2 MB 7.6 MB/s \n",
            "\u001b[?25hRequirement already satisfied: numpy>=1.20.3 in /usr/local/lib/python3.8/dist-packages (from pandas) (1.21.6)\n",
            "Requirement already satisfied: python-dateutil>=2.8.1 in /usr/local/lib/python3.8/dist-packages (from pandas) (2.8.2)\n",
            "Requirement already satisfied: pytz>=2020.1 in /usr/local/lib/python3.8/dist-packages (from pandas) (2022.6)\n",
            "Requirement already satisfied: six>=1.5 in /usr/local/lib/python3.8/dist-packages (from python-dateutil>=2.8.1->pandas) (1.15.0)\n",
            "Installing collected packages: pandas\n",
            "  Attempting uninstall: pandas\n",
            "    Found existing installation: pandas 1.3.5\n",
            "    Uninstalling pandas-1.3.5:\n",
            "      Successfully uninstalled pandas-1.3.5\n",
            "Successfully installed pandas-1.5.2\n"
          ]
        }
      ]
    },
    {
      "cell_type": "code",
      "source": [
        "!pip show pandas"
      ],
      "metadata": {
        "colab": {
          "base_uri": "https://localhost:8080/"
        },
        "id": "h_gTKNwtgra5",
        "outputId": "2f542ee9-77d6-4804-878c-3d9bdb10d7f7"
      },
      "execution_count": null,
      "outputs": [
        {
          "output_type": "stream",
          "name": "stdout",
          "text": [
            "Name: pandas\n",
            "Version: 1.5.2\n",
            "Summary: Powerful data structures for data analysis, time series, and statistics\n",
            "Home-page: https://pandas.pydata.org\n",
            "Author: The Pandas Development Team\n",
            "Author-email: pandas-dev@python.org\n",
            "License: BSD-3-Clause\n",
            "Location: /usr/local/lib/python3.8/dist-packages\n",
            "Requires: pytz, numpy, python-dateutil\n",
            "Required-by: xarray, vega-datasets, statsmodels, sklearn-pandas, seaborn, pymc, prophet, plotnine, pandas-profiling, pandas-gbq, pandas-datareader, mlxtend, mizani, holoviews, gspread-dataframe, google-colab, fix-yahoo-finance, fastai, db-dtypes, datascience, cufflinks, cmdstanpy, arviz, altair\n"
          ]
        }
      ]
    },
    {
      "cell_type": "code",
      "execution_count": null,
      "metadata": {
        "id": "GEcezx4cf-pY"
      },
      "outputs": [],
      "source": [
        "import numpy as np\n",
        "import pandas as pd\n",
        "import matplotlib.pyplot as plt\n",
        "import matplotlib.image as mpimg\n",
        "import pickle\n",
        "import tensorflow as tf\n",
        "import random"
      ]
    },
    {
      "cell_type": "code",
      "source": [
        "import pandas as pd\n",
        "\n",
        "unpickled_df_train = pd.read_pickle(\"/content/drive/MyDrive/train100c5k_v2.pkl\")\n",
        "unpickled_df_test = pd.read_pickle(\"/content/drive/MyDrive/test100c5k_nolabel.pkl\")\n",
        "\n",
        "unpickled_df_train"
      ],
      "metadata": {
        "colab": {
          "base_uri": "https://localhost:8080/",
          "height": 424
        },
        "id": "YHT3dipKgDX4",
        "outputId": "9c0394db-ebe0-41bd-8d29-c5d9cee57d3b"
      },
      "execution_count": null,
      "outputs": [
        {
          "output_type": "execute_result",
          "data": {
            "text/plain": [
              "                                                     data  target\n",
              "0       [[46, 132, 11, 1, 3, 0, 0, 0, 0, 0, 0, 0, 0, 0...       0\n",
              "1       [[0, 0, 3, 0, 116, 78, 0, 1, 1, 0, 0, 0, 0, 0,...       0\n",
              "2       [[0, 0, 0, 0, 0, 0, 0, 0, 0, 0, 0, 0, 0, 0, 4,...       0\n",
              "3       [[0, 0, 0, 0, 0, 0, 0, 0, 0, 0, 0, 0, 0, 0, 0,...       0\n",
              "4       [[0, 0, 0, 69, 165, 202, 199, 214, 204, 170, 1...       0\n",
              "...                                                   ...     ...\n",
              "499995  [[0, 0, 0, 0, 1, 4, 7, 8, 6, 4, 5, 1, 0, 0, 0,...      99\n",
              "499996  [[0, 0, 0, 0, 0, 3, 0, 0, 0, 0, 0, 0, 0, 0, 0,...      99\n",
              "499997  [[0, 0, 0, 0, 2, 0, 25, 26, 0, 1, 0, 0, 0, 0, ...      99\n",
              "499998  [[0, 0, 0, 0, 0, 0, 0, 0, 0, 0, 0, 0, 0, 0, 0,...      99\n",
              "499999  [[0, 0, 0, 0, 0, 0, 0, 0, 0, 0, 0, 0, 0, 1, 0,...      99\n",
              "\n",
              "[500000 rows x 2 columns]"
            ],
            "text/html": [
              "\n",
              "  <div id=\"df-5d7dbffb-c5ea-4b45-9450-17f3c139b7e7\">\n",
              "    <div class=\"colab-df-container\">\n",
              "      <div>\n",
              "<style scoped>\n",
              "    .dataframe tbody tr th:only-of-type {\n",
              "        vertical-align: middle;\n",
              "    }\n",
              "\n",
              "    .dataframe tbody tr th {\n",
              "        vertical-align: top;\n",
              "    }\n",
              "\n",
              "    .dataframe thead th {\n",
              "        text-align: right;\n",
              "    }\n",
              "</style>\n",
              "<table border=\"1\" class=\"dataframe\">\n",
              "  <thead>\n",
              "    <tr style=\"text-align: right;\">\n",
              "      <th></th>\n",
              "      <th>data</th>\n",
              "      <th>target</th>\n",
              "    </tr>\n",
              "  </thead>\n",
              "  <tbody>\n",
              "    <tr>\n",
              "      <th>0</th>\n",
              "      <td>[[46, 132, 11, 1, 3, 0, 0, 0, 0, 0, 0, 0, 0, 0...</td>\n",
              "      <td>0</td>\n",
              "    </tr>\n",
              "    <tr>\n",
              "      <th>1</th>\n",
              "      <td>[[0, 0, 3, 0, 116, 78, 0, 1, 1, 0, 0, 0, 0, 0,...</td>\n",
              "      <td>0</td>\n",
              "    </tr>\n",
              "    <tr>\n",
              "      <th>2</th>\n",
              "      <td>[[0, 0, 0, 0, 0, 0, 0, 0, 0, 0, 0, 0, 0, 0, 4,...</td>\n",
              "      <td>0</td>\n",
              "    </tr>\n",
              "    <tr>\n",
              "      <th>3</th>\n",
              "      <td>[[0, 0, 0, 0, 0, 0, 0, 0, 0, 0, 0, 0, 0, 0, 0,...</td>\n",
              "      <td>0</td>\n",
              "    </tr>\n",
              "    <tr>\n",
              "      <th>4</th>\n",
              "      <td>[[0, 0, 0, 69, 165, 202, 199, 214, 204, 170, 1...</td>\n",
              "      <td>0</td>\n",
              "    </tr>\n",
              "    <tr>\n",
              "      <th>...</th>\n",
              "      <td>...</td>\n",
              "      <td>...</td>\n",
              "    </tr>\n",
              "    <tr>\n",
              "      <th>499995</th>\n",
              "      <td>[[0, 0, 0, 0, 1, 4, 7, 8, 6, 4, 5, 1, 0, 0, 0,...</td>\n",
              "      <td>99</td>\n",
              "    </tr>\n",
              "    <tr>\n",
              "      <th>499996</th>\n",
              "      <td>[[0, 0, 0, 0, 0, 3, 0, 0, 0, 0, 0, 0, 0, 0, 0,...</td>\n",
              "      <td>99</td>\n",
              "    </tr>\n",
              "    <tr>\n",
              "      <th>499997</th>\n",
              "      <td>[[0, 0, 0, 0, 2, 0, 25, 26, 0, 1, 0, 0, 0, 0, ...</td>\n",
              "      <td>99</td>\n",
              "    </tr>\n",
              "    <tr>\n",
              "      <th>499998</th>\n",
              "      <td>[[0, 0, 0, 0, 0, 0, 0, 0, 0, 0, 0, 0, 0, 0, 0,...</td>\n",
              "      <td>99</td>\n",
              "    </tr>\n",
              "    <tr>\n",
              "      <th>499999</th>\n",
              "      <td>[[0, 0, 0, 0, 0, 0, 0, 0, 0, 0, 0, 0, 0, 1, 0,...</td>\n",
              "      <td>99</td>\n",
              "    </tr>\n",
              "  </tbody>\n",
              "</table>\n",
              "<p>500000 rows × 2 columns</p>\n",
              "</div>\n",
              "      <button class=\"colab-df-convert\" onclick=\"convertToInteractive('df-5d7dbffb-c5ea-4b45-9450-17f3c139b7e7')\"\n",
              "              title=\"Convert this dataframe to an interactive table.\"\n",
              "              style=\"display:none;\">\n",
              "        \n",
              "  <svg xmlns=\"http://www.w3.org/2000/svg\" height=\"24px\"viewBox=\"0 0 24 24\"\n",
              "       width=\"24px\">\n",
              "    <path d=\"M0 0h24v24H0V0z\" fill=\"none\"/>\n",
              "    <path d=\"M18.56 5.44l.94 2.06.94-2.06 2.06-.94-2.06-.94-.94-2.06-.94 2.06-2.06.94zm-11 1L8.5 8.5l.94-2.06 2.06-.94-2.06-.94L8.5 2.5l-.94 2.06-2.06.94zm10 10l.94 2.06.94-2.06 2.06-.94-2.06-.94-.94-2.06-.94 2.06-2.06.94z\"/><path d=\"M17.41 7.96l-1.37-1.37c-.4-.4-.92-.59-1.43-.59-.52 0-1.04.2-1.43.59L10.3 9.45l-7.72 7.72c-.78.78-.78 2.05 0 2.83L4 21.41c.39.39.9.59 1.41.59.51 0 1.02-.2 1.41-.59l7.78-7.78 2.81-2.81c.8-.78.8-2.07 0-2.86zM5.41 20L4 18.59l7.72-7.72 1.47 1.35L5.41 20z\"/>\n",
              "  </svg>\n",
              "      </button>\n",
              "      \n",
              "  <style>\n",
              "    .colab-df-container {\n",
              "      display:flex;\n",
              "      flex-wrap:wrap;\n",
              "      gap: 12px;\n",
              "    }\n",
              "\n",
              "    .colab-df-convert {\n",
              "      background-color: #E8F0FE;\n",
              "      border: none;\n",
              "      border-radius: 50%;\n",
              "      cursor: pointer;\n",
              "      display: none;\n",
              "      fill: #1967D2;\n",
              "      height: 32px;\n",
              "      padding: 0 0 0 0;\n",
              "      width: 32px;\n",
              "    }\n",
              "\n",
              "    .colab-df-convert:hover {\n",
              "      background-color: #E2EBFA;\n",
              "      box-shadow: 0px 1px 2px rgba(60, 64, 67, 0.3), 0px 1px 3px 1px rgba(60, 64, 67, 0.15);\n",
              "      fill: #174EA6;\n",
              "    }\n",
              "\n",
              "    [theme=dark] .colab-df-convert {\n",
              "      background-color: #3B4455;\n",
              "      fill: #D2E3FC;\n",
              "    }\n",
              "\n",
              "    [theme=dark] .colab-df-convert:hover {\n",
              "      background-color: #434B5C;\n",
              "      box-shadow: 0px 1px 3px 1px rgba(0, 0, 0, 0.15);\n",
              "      filter: drop-shadow(0px 1px 2px rgba(0, 0, 0, 0.3));\n",
              "      fill: #FFFFFF;\n",
              "    }\n",
              "  </style>\n",
              "\n",
              "      <script>\n",
              "        const buttonEl =\n",
              "          document.querySelector('#df-5d7dbffb-c5ea-4b45-9450-17f3c139b7e7 button.colab-df-convert');\n",
              "        buttonEl.style.display =\n",
              "          google.colab.kernel.accessAllowed ? 'block' : 'none';\n",
              "\n",
              "        async function convertToInteractive(key) {\n",
              "          const element = document.querySelector('#df-5d7dbffb-c5ea-4b45-9450-17f3c139b7e7');\n",
              "          const dataTable =\n",
              "            await google.colab.kernel.invokeFunction('convertToInteractive',\n",
              "                                                     [key], {});\n",
              "          if (!dataTable) return;\n",
              "\n",
              "          const docLinkHtml = 'Like what you see? Visit the ' +\n",
              "            '<a target=\"_blank\" href=https://colab.research.google.com/notebooks/data_table.ipynb>data table notebook</a>'\n",
              "            + ' to learn more about interactive tables.';\n",
              "          element.innerHTML = '';\n",
              "          dataTable['output_type'] = 'display_data';\n",
              "          await google.colab.output.renderOutput(dataTable, element);\n",
              "          const docLink = document.createElement('div');\n",
              "          docLink.innerHTML = docLinkHtml;\n",
              "          element.appendChild(docLink);\n",
              "        }\n",
              "      </script>\n",
              "    </div>\n",
              "  </div>\n",
              "  "
            ]
          },
          "metadata": {},
          "execution_count": 6
        }
      ]
    },
    {
      "cell_type": "code",
      "source": [
        "import tensorflow as tf\n",
        "import random\n",
        "import keras\n",
        "from keras.preprocessing.image import ImageDataGenerator\n",
        "from keras.models import Sequential\n",
        "from keras.layers import Convolution2D\n",
        "from keras.layers import MaxPooling2D\n",
        "from keras.layers import *\n",
        "from keras.layers import Flatten\n",
        "from keras.layers import Dense"
      ],
      "metadata": {
        "id": "4PWGCsjlgUDm"
      },
      "execution_count": null,
      "outputs": []
    },
    {
      "cell_type": "code",
      "source": [
        "from keras.utils.np_utils import to_categorical\n",
        "from sklearn.model_selection import train_test_split"
      ],
      "metadata": {
        "id": "ILVUPFiPiIZ1"
      },
      "execution_count": null,
      "outputs": []
    },
    {
      "cell_type": "code",
      "source": [
        "# Computing the values for X_train, X_test, Y_train, Y_test\n",
        "# Reshaping the imags to fit into the model\n",
        "# Test size has been taken as 20% of train set\n",
        "\n",
        "X_train, X_test, Y_train, Y_test = train_test_split(unpickled_df_train['data'].values, unpickled_df_train['target'].values, test_size=0.05, random_state=4, stratify=unpickled_df_train['target'].values)\n",
        "X_train = np.array([x.reshape( 28, 28, 1) for x in X_train])\n",
        "X_test = np.array([x.reshape( 28, 28, 1) for x in X_test])"
      ],
      "metadata": {
        "id": "hB3PhylsiL0X"
      },
      "execution_count": null,
      "outputs": []
    },
    {
      "cell_type": "code",
      "source": [
        "# Reshaping the entire array of X_train, X_test\n",
        "\n",
        "X_train = X_train.reshape(X_train.shape[0], 28, 28, 1).astype('float32')\n",
        "X_test = X_test.reshape(X_test.shape[0], 28, 28,  1).astype('float32')\n",
        "\n",
        "#Normalization\n",
        "X_train = X_train / 255.\n",
        "X_test = X_test / 255.\n",
        "print(X_train.shape, X_test.shape)\n",
        "\n",
        "\n",
        "Y_train = to_categorical(Y_train, 100)\n",
        "Y_test = to_categorical(Y_test, 100)\n",
        "\n",
        "print(Y_train.shape, Y_test.shape)"
      ],
      "metadata": {
        "colab": {
          "base_uri": "https://localhost:8080/"
        },
        "id": "KVccoocsiPtZ",
        "outputId": "45a5b0fb-49b4-4cf4-8c7a-81344fcfd803"
      },
      "execution_count": null,
      "outputs": [
        {
          "output_type": "stream",
          "name": "stdout",
          "text": [
            "(475000, 28, 28, 1) (25000, 28, 28, 1)\n",
            "(475000, 100) (25000, 100)\n"
          ]
        }
      ]
    },
    {
      "cell_type": "code",
      "source": [
        "# Training the CNN model\n",
        "\n",
        "CNN_model = Sequential()\n",
        "CNN_model.add(tf.keras.layers.Input(shape=(28,28,1)))\n",
        "\n",
        "# CNN_model.add(tf.keras.layers.RandomRotation(factor=0.5))\n",
        "CNN_model.add(tf.keras.layers.Conv2D(filters = 64, kernel_size = (3, 3), activation = 'elu' ,kernel_initializer = \"he_normal\", padding=\"same\"))\n",
        "CNN_model.add(tf.keras.layers.MaxPooling2D(2,2))\n",
        "CNN_model.add(tf.keras.layers.BatchNormalization())\n",
        "CNN_model.add(tf.keras.layers.Conv2D(filters = 128, kernel_size = (3, 3), activation = 'elu',  kernel_initializer = \"he_normal\", padding=\"same\"))\n",
        "CNN_model.add(tf.keras.layers.MaxPooling2D(2,2))\n",
        "CNN_model.add(tf.keras.layers.BatchNormalization())\n",
        "\n",
        "CNN_model.add(tf.keras.layers.Conv2D(filters =256 , kernel_size = (3, 3), activation = 'elu', kernel_initializer = \"he_normal\", padding=\"same\" ))\n",
        "CNN_model.add(tf.keras.layers.MaxPooling2D(2,2))\n",
        "CNN_model.add(tf.keras.layers.BatchNormalization())\n",
        "\n",
        "# CNN_model.add(tf.keras.layers.Conv2D(filters = 512, kernel_size = (3, 3), activation = 'relu', kernel_initializer = \"he_normal\", padding=\"same\" ))\n",
        "# CNN_model.add(tf.keras.layers.MaxPooling2D(2,2))\n",
        "\n",
        "\n",
        "# CNN_model.add(tf.keras.layers.Conv2D(filters = 128, kernel_size = (3, 3), activation = 'relu', input_shape = (28, 28, 1)))\n",
        "\n",
        "CNN_model.add(tf.keras.layers.GlobalAveragePooling2D())\n",
        "CNN_model.add(tf.keras.layers.Dense(256, activation='elu', kernel_initializer = \"he_normal\"))\n",
        "CNN_model.add(tf.keras.layers.Dropout(0.2))\n",
        "# CNN_model.add(tf.keras.layers.Dense(128, activation='relu', kernel_initializer = tf.initializers.GlorotUniform()))\n",
        "CNN_model.add(tf.keras.layers.Dense(100, activation='softmax'))\n",
        "\n",
        "CNN_model.summary()"
      ],
      "metadata": {
        "id": "Ihc0N1Ha35S0",
        "colab": {
          "base_uri": "https://localhost:8080/"
        },
        "outputId": "514d46ee-6f66-4f46-d0a2-a049ea855ac5"
      },
      "execution_count": null,
      "outputs": [
        {
          "output_type": "stream",
          "name": "stdout",
          "text": [
            "Model: \"sequential\"\n",
            "_________________________________________________________________\n",
            " Layer (type)                Output Shape              Param #   \n",
            "=================================================================\n",
            " conv2d (Conv2D)             (None, 28, 28, 64)        640       \n",
            "                                                                 \n",
            " max_pooling2d (MaxPooling2D  (None, 14, 14, 64)       0         \n",
            " )                                                               \n",
            "                                                                 \n",
            " batch_normalization (BatchN  (None, 14, 14, 64)       256       \n",
            " ormalization)                                                   \n",
            "                                                                 \n",
            " conv2d_1 (Conv2D)           (None, 14, 14, 128)       73856     \n",
            "                                                                 \n",
            " max_pooling2d_1 (MaxPooling  (None, 7, 7, 128)        0         \n",
            " 2D)                                                             \n",
            "                                                                 \n",
            " batch_normalization_1 (Batc  (None, 7, 7, 128)        512       \n",
            " hNormalization)                                                 \n",
            "                                                                 \n",
            " conv2d_2 (Conv2D)           (None, 7, 7, 256)         295168    \n",
            "                                                                 \n",
            " max_pooling2d_2 (MaxPooling  (None, 3, 3, 256)        0         \n",
            " 2D)                                                             \n",
            "                                                                 \n",
            " batch_normalization_2 (Batc  (None, 3, 3, 256)        1024      \n",
            " hNormalization)                                                 \n",
            "                                                                 \n",
            " global_average_pooling2d (G  (None, 256)              0         \n",
            " lobalAveragePooling2D)                                          \n",
            "                                                                 \n",
            " dense (Dense)               (None, 256)               65792     \n",
            "                                                                 \n",
            " dropout (Dropout)           (None, 256)               0         \n",
            "                                                                 \n",
            " dense_1 (Dense)             (None, 100)               25700     \n",
            "                                                                 \n",
            "=================================================================\n",
            "Total params: 462,948\n",
            "Trainable params: 462,052\n",
            "Non-trainable params: 896\n",
            "_________________________________________________________________\n"
          ]
        }
      ]
    },
    {
      "cell_type": "code",
      "source": [
        "# Compiling the CNN_model\n",
        "\n",
        "CNN_model.compile(loss='categorical_crossentropy',optimizer= 'adam', metrics=['accuracy'])\n"
      ],
      "metadata": {
        "id": "mEcWc20nim-N"
      },
      "execution_count": null,
      "outputs": []
    },
    {
      "cell_type": "code",
      "source": [
        "plt.imshow(X_train[2][:,:,0],cmap=\"gray\")"
      ],
      "metadata": {
        "colab": {
          "base_uri": "https://localhost:8080/",
          "height": 282
        },
        "id": "4EMa_l_ZJh7D",
        "outputId": "de4440a4-21b6-4235-da91-94b8577abb1d"
      },
      "execution_count": null,
      "outputs": [
        {
          "output_type": "execute_result",
          "data": {
            "text/plain": [
              "<matplotlib.image.AxesImage at 0x7f62065dd850>"
            ]
          },
          "metadata": {},
          "execution_count": 13
        },
        {
          "output_type": "display_data",
          "data": {
            "text/plain": [
              "<Figure size 432x288 with 1 Axes>"
            ],
            "image/png": "[encoded data removed]"
          },
          "metadata": {
            "needs_background": "light"
          }
        }
      ]
    },
    {
      "cell_type": "code",
      "source": [
        "CNN_model_fit = CNN_model.fit(X_train, Y_train, batch_size= 64, epochs=50,\n",
        "verbose=1, validation_data=(X_test, Y_test))\n",
        "CNN_model.save('model_arnall.h5')"
      ],
      "metadata": {
        "colab": {
          "base_uri": "https://localhost:8080/"
        },
        "id": "KNPIzeF9iqjT",
        "outputId": "558fa588-0449-429b-a346-1d970a8e2fdb"
      },
      "execution_count": null,
      "outputs": [
        {
          "output_type": "stream",
          "name": "stdout",
          "text": [
            "Epoch 1/50\n",
            "7422/7422 [==============================] - 61s 7ms/step - loss: 1.6739 - accuracy: 0.5766 - val_loss: 1.3687 - val_accuracy: 0.6460\n",
            "Epoch 2/50\n",
            "7422/7422 [==============================] - 54s 7ms/step - loss: 1.2610 - accuracy: 0.6707 - val_loss: 1.2084 - val_accuracy: 0.6844\n",
            "Epoch 3/50\n",
            "7422/7422 [==============================] - 53s 7ms/step - loss: 1.1535 - accuracy: 0.6963 - val_loss: 1.1497 - val_accuracy: 0.6970\n",
            "Epoch 4/50\n",
            "7422/7422 [==============================] - 52s 7ms/step - loss: 1.0892 - accuracy: 0.7110 - val_loss: 1.1305 - val_accuracy: 0.7047\n",
            "Epoch 5/50\n",
            "7422/7422 [==============================] - 52s 7ms/step - loss: 1.0392 - accuracy: 0.7228 - val_loss: 1.1103 - val_accuracy: 0.7084\n",
            "Epoch 6/50\n",
            "7422/7422 [==============================] - 52s 7ms/step - loss: 1.0010 - accuracy: 0.7314 - val_loss: 1.1242 - val_accuracy: 0.7086\n",
            "Epoch 7/50\n",
            "7422/7422 [==============================] - 52s 7ms/step - loss: 0.9710 - accuracy: 0.7380 - val_loss: 1.1045 - val_accuracy: 0.7125\n",
            "Epoch 8/50\n",
            "7422/7422 [==============================] - 54s 7ms/step - loss: 0.9413 - accuracy: 0.7457 - val_loss: 1.1101 - val_accuracy: 0.7114\n",
            "Epoch 9/50\n",
            "7422/7422 [==============================] - 52s 7ms/step - loss: 0.9165 - accuracy: 0.7512 - val_loss: 1.1208 - val_accuracy: 0.7102\n",
            "Epoch 10/50\n",
            "7422/7422 [==============================] - 52s 7ms/step - loss: 0.8970 - accuracy: 0.7553 - val_loss: 1.1150 - val_accuracy: 0.7140\n",
            "Epoch 11/50\n",
            "7422/7422 [==============================] - 52s 7ms/step - loss: 0.8759 - accuracy: 0.7604 - val_loss: 1.1243 - val_accuracy: 0.7109\n",
            "Epoch 12/50\n",
            "7422/7422 [==============================] - 52s 7ms/step - loss: 0.8576 - accuracy: 0.7643 - val_loss: 1.1352 - val_accuracy: 0.7098\n",
            "Epoch 13/50\n",
            "7422/7422 [==============================] - 52s 7ms/step - loss: 0.8411 - accuracy: 0.7676 - val_loss: 1.1627 - val_accuracy: 0.7068\n",
            "Epoch 14/50\n",
            "7422/7422 [==============================] - 54s 7ms/step - loss: 0.8262 - accuracy: 0.7712 - val_loss: 1.1476 - val_accuracy: 0.7120\n",
            "Epoch 15/50\n",
            "7422/7422 [==============================] - 52s 7ms/step - loss: 0.8114 - accuracy: 0.7748 - val_loss: 1.1562 - val_accuracy: 0.7072\n",
            "Epoch 16/50\n",
            "7422/7422 [==============================] - 52s 7ms/step - loss: 0.7979 - accuracy: 0.7782 - val_loss: 1.1608 - val_accuracy: 0.7084\n",
            "Epoch 17/50\n",
            "7422/7422 [==============================] - 52s 7ms/step - loss: 0.7862 - accuracy: 0.7797 - val_loss: 1.1773 - val_accuracy: 0.7052\n",
            "Epoch 18/50\n",
            "7422/7422 [==============================] - 51s 7ms/step - loss: 0.7737 - accuracy: 0.7830 - val_loss: 1.1861 - val_accuracy: 0.7077\n",
            "Epoch 19/50\n",
            "7422/7422 [==============================] - 51s 7ms/step - loss: 0.7646 - accuracy: 0.7848 - val_loss: 1.2045 - val_accuracy: 0.7029\n",
            "Epoch 20/50\n",
            "7422/7422 [==============================] - 54s 7ms/step - loss: 0.7513 - accuracy: 0.7878 - val_loss: 1.2040 - val_accuracy: 0.6994\n",
            "Epoch 21/50\n",
            "7422/7422 [==============================] - 52s 7ms/step - loss: 0.7417 - accuracy: 0.7903 - val_loss: 1.2057 - val_accuracy: 0.7040\n",
            "Epoch 22/50\n",
            "7422/7422 [==============================] - 51s 7ms/step - loss: 0.7331 - accuracy: 0.7923 - val_loss: 1.2275 - val_accuracy: 0.7031\n",
            "Epoch 23/50\n",
            "7422/7422 [==============================] - 51s 7ms/step - loss: 0.7252 - accuracy: 0.7946 - val_loss: 1.2406 - val_accuracy: 0.7029\n",
            "Epoch 24/50\n",
            "7422/7422 [==============================] - 51s 7ms/step - loss: 0.7153 - accuracy: 0.7957 - val_loss: 1.2455 - val_accuracy: 0.7013\n",
            "Epoch 25/50\n",
            "7422/7422 [==============================] - 51s 7ms/step - loss: 0.7081 - accuracy: 0.7972 - val_loss: 1.2450 - val_accuracy: 0.7023\n",
            "Epoch 26/50\n",
            "7422/7422 [==============================] - 54s 7ms/step - loss: 0.7001 - accuracy: 0.7996 - val_loss: 1.2556 - val_accuracy: 0.6988\n",
            "Epoch 27/50\n",
            "7422/7422 [==============================] - 52s 7ms/step - loss: 0.6925 - accuracy: 0.8012 - val_loss: 1.2628 - val_accuracy: 0.7011\n",
            "Epoch 28/50\n",
            "7422/7422 [==============================] - 52s 7ms/step - loss: 0.6855 - accuracy: 0.8022 - val_loss: 1.2665 - val_accuracy: 0.6992\n",
            "Epoch 29/50\n",
            "7422/7422 [==============================] - 52s 7ms/step - loss: 0.6795 - accuracy: 0.8038 - val_loss: 1.2929 - val_accuracy: 0.6986\n",
            "Epoch 30/50\n",
            "7422/7422 [==============================] - 51s 7ms/step - loss: 0.6731 - accuracy: 0.8056 - val_loss: 1.3050 - val_accuracy: 0.6949\n",
            "Epoch 31/50\n",
            "7422/7422 [==============================] - 51s 7ms/step - loss: 0.6684 - accuracy: 0.8066 - val_loss: 1.3012 - val_accuracy: 0.6991\n",
            "Epoch 32/50\n",
            "7422/7422 [==============================] - 53s 7ms/step - loss: 0.6624 - accuracy: 0.8077 - val_loss: 1.3130 - val_accuracy: 0.6970\n",
            "Epoch 33/50\n",
            "7422/7422 [==============================] - 51s 7ms/step - loss: 0.6544 - accuracy: 0.8103 - val_loss: 1.3355 - val_accuracy: 0.6959\n",
            "Epoch 34/50\n",
            "7422/7422 [==============================] - 51s 7ms/step - loss: 0.6491 - accuracy: 0.8112 - val_loss: 1.3333 - val_accuracy: 0.6974\n",
            "Epoch 35/50\n",
            "7422/7422 [==============================] - 51s 7ms/step - loss: 0.6443 - accuracy: 0.8121 - val_loss: 1.3383 - val_accuracy: 0.6930\n",
            "Epoch 36/50\n",
            "7422/7422 [==============================] - 51s 7ms/step - loss: 0.6393 - accuracy: 0.8133 - val_loss: 1.3412 - val_accuracy: 0.6943\n",
            "Epoch 37/50\n",
            "7422/7422 [==============================] - 52s 7ms/step - loss: 0.6339 - accuracy: 0.8140 - val_loss: 1.3623 - val_accuracy: 0.6908\n",
            "Epoch 38/50\n",
            "7422/7422 [==============================] - 53s 7ms/step - loss: 0.6310 - accuracy: 0.8153 - val_loss: 1.3631 - val_accuracy: 0.6925\n",
            "Epoch 39/50\n",
            "7422/7422 [==============================] - 52s 7ms/step - loss: 0.6251 - accuracy: 0.8167 - val_loss: 1.3602 - val_accuracy: 0.6916\n",
            "Epoch 40/50\n",
            "7422/7422 [==============================] - 52s 7ms/step - loss: 0.6210 - accuracy: 0.8171 - val_loss: 1.3816 - val_accuracy: 0.6913\n",
            "Epoch 41/50\n",
            "7422/7422 [==============================] - 52s 7ms/step - loss: 0.6175 - accuracy: 0.8180 - val_loss: 1.3882 - val_accuracy: 0.6902\n",
            "Epoch 42/50\n",
            "7422/7422 [==============================] - 52s 7ms/step - loss: 0.6116 - accuracy: 0.8202 - val_loss: 1.3857 - val_accuracy: 0.6954\n",
            "Epoch 43/50\n",
            "7422/7422 [==============================] - 52s 7ms/step - loss: 0.6070 - accuracy: 0.8210 - val_loss: 1.4304 - val_accuracy: 0.6908\n",
            "Epoch 44/50\n",
            "7422/7422 [==============================] - 54s 7ms/step - loss: 0.6044 - accuracy: 0.8216 - val_loss: 1.4072 - val_accuracy: 0.6915\n",
            "Epoch 45/50\n",
            "7422/7422 [==============================] - 52s 7ms/step - loss: 0.5998 - accuracy: 0.8224 - val_loss: 1.4139 - val_accuracy: 0.6912\n",
            "Epoch 46/50\n",
            "7422/7422 [==============================] - 51s 7ms/step - loss: 0.5964 - accuracy: 0.8232 - val_loss: 1.4278 - val_accuracy: 0.6895\n",
            "Epoch 47/50\n",
            "7422/7422 [==============================] - 52s 7ms/step - loss: 0.5928 - accuracy: 0.8241 - val_loss: 1.4427 - val_accuracy: 0.6923\n",
            "Epoch 48/50\n",
            "7422/7422 [==============================] - 52s 7ms/step - loss: 0.5882 - accuracy: 0.8254 - val_loss: 1.4621 - val_accuracy: 0.6909\n",
            "Epoch 49/50\n",
            "7422/7422 [==============================] - 52s 7ms/step - loss: 0.5849 - accuracy: 0.8259 - val_loss: 1.4787 - val_accuracy: 0.6900\n",
            "Epoch 50/50\n",
            "7422/7422 [==============================] - 53s 7ms/step - loss: 0.5825 - accuracy: 0.8266 - val_loss: 1.4693 - val_accuracy: 0.6884\n"
          ]
        }
      ]
    },
    {
      "cell_type": "code",
      "source": [],
      "metadata": {
        "colab": {
          "base_uri": "https://localhost:8080/"
        },
        "id": "LvvG9R4kivIx",
        "outputId": "04dc42b5-09e6-4ffb-a68d-d71e2fc91089"
      },
      "execution_count": null,
      "outputs": [
        {
          "output_type": "stream",
          "name": "stderr",
          "text": [
            "WARNING:absl:Found untraced functions such as _jit_compiled_convolution_op while saving (showing 1 of 1). These functions will not be directly callable after loading.\n"
          ]
        }
      ]
    },
    {
      "cell_type": "code",
      "source": [
        "!python --version"
      ],
      "metadata": {
        "id": "4XWwMDgJB0E2",
        "colab": {
          "base_uri": "https://localhost:8080/"
        },
        "outputId": "72252893-73e8-4f91-ade3-ad4ea0dc6a2f"
      },
      "execution_count": null,
      "outputs": [
        {
          "output_type": "stream",
          "name": "stdout",
          "text": [
            "Python 3.8.15\n"
          ]
        }
      ]
    },
    {
      "cell_type": "code",
      "source": [
        "np.version.version\n",
        "\n"
      ],
      "metadata": {
        "colab": {
          "base_uri": "https://localhost:8080/",
          "height": 36
        },
        "id": "rUdPyv4mEWgc",
        "outputId": "e0fb546c-a1fe-4cc9-82d8-0593dfd272c3"
      },
      "execution_count": null,
      "outputs": [
        {
          "output_type": "execute_result",
          "data": {
            "text/plain": [
              "'1.21.6'"
            ],
            "application/vnd.google.colaboratory.intrinsic+json": {
              "type": "string"
            }
          },
          "metadata": {},
          "execution_count": 20
        }
      ]
    },
    {
      "cell_type": "code",
      "source": [
        "pd. __version__"
      ],
      "metadata": {
        "colab": {
          "base_uri": "https://localhost:8080/",
          "height": 36
        },
        "id": "skQYtAT1Eble",
        "outputId": "3012882b-09dc-4325-bde1-74a64ffaf030"
      },
      "execution_count": null,
      "outputs": [
        {
          "output_type": "execute_result",
          "data": {
            "text/plain": [
              "'1.5.2'"
            ],
            "application/vnd.google.colaboratory.intrinsic+json": {
              "type": "string"
            }
          },
          "metadata": {},
          "execution_count": 23
        }
      ]
    },
    {
      "cell_type": "code",
      "source": [
        "!pip show keras"
      ],
      "metadata": {
        "colab": {
          "base_uri": "https://localhost:8080/"
        },
        "id": "UZd22LVKEsUg",
        "outputId": "aad067c7-ec89-4330-d780-1cb245edf475"
      },
      "execution_count": null,
      "outputs": [
        {
          "output_type": "stream",
          "name": "stdout",
          "text": [
            "Name: keras\n",
            "Version: 2.9.0\n",
            "Summary: Deep learning for humans.\n",
            "Home-page: https://keras.io/\n",
            "Author: Keras team\n",
            "Author-email: keras-users@googlegroups.com\n",
            "License: Apache 2.0\n",
            "Location: /usr/local/lib/python3.8/dist-packages\n",
            "Requires: \n",
            "Required-by: tensorflow, keras-vis\n"
          ]
        }
      ]
    },
    {
      "cell_type": "code",
      "source": [
        "!pip show matplotlib"
      ],
      "metadata": {
        "colab": {
          "base_uri": "https://localhost:8080/"
        },
        "id": "qyLqfArvFLNE",
        "outputId": "1a468ffe-a536-4eff-815f-85a0fc66ba45"
      },
      "execution_count": null,
      "outputs": [
        {
          "output_type": "stream",
          "name": "stdout",
          "text": [
            "Name: matplotlib\n",
            "Version: 3.2.2\n",
            "Summary: Python plotting package\n",
            "Home-page: https://matplotlib.org\n",
            "Author: John D. Hunter, Michael Droettboom\n",
            "Author-email: matplotlib-users@python.org\n",
            "License: PSF\n",
            "Location: /usr/local/lib/python3.8/dist-packages\n",
            "Requires: cycler, kiwisolver, pyparsing, numpy, python-dateutil\n",
            "Required-by: yellowbrick, wordcloud, seaborn, scikit-image, pycocotools, prophet, plotnine, pandas-profiling, mlxtend, mizani, missingno, matplotlib-venn, keras-vis, imgaug, fastai, descartes, datascience, daft, arviz\n"
          ]
        }
      ]
    },
    {
      "cell_type": "code",
      "source": [
        "!pip show scikit-learn"
      ],
      "metadata": {
        "colab": {
          "base_uri": "https://localhost:8080/"
        },
        "id": "Nism2WpGFeKN",
        "outputId": "8c69f2be-72b2-4c65-c24b-b938325dd632"
      },
      "execution_count": null,
      "outputs": [
        {
          "output_type": "stream",
          "name": "stdout",
          "text": [
            "Name: scikit-learn\n",
            "Version: 1.0.2\n",
            "Summary: A set of python modules for machine learning and data mining\n",
            "Home-page: http://scikit-learn.org\n",
            "Author: None\n",
            "Author-email: None\n",
            "License: new BSD\n",
            "Location: /usr/local/lib/python3.8/dist-packages\n",
            "Requires: scipy, joblib, threadpoolctl, numpy\n",
            "Required-by: yellowbrick, sklearn-pandas, qudida, mlxtend, lightgbm, librosa, imbalanced-learn, fastai\n"
          ]
        }
      ]
    },
    {
      "cell_type": "code",
      "source": [
        "!pip show tensorflow"
      ],
      "metadata": {
        "id": "fRlXWAqaFiql",
        "outputId": "cd98915c-2d8d-419f-e1ee-0674c80c965c",
        "colab": {
          "base_uri": "https://localhost:8080/"
        }
      },
      "execution_count": null,
      "outputs": [
        {
          "output_type": "stream",
          "name": "stdout",
          "text": [
            "Name: tensorflow\n",
            "Version: 2.9.2\n",
            "Summary: TensorFlow is an open source machine learning framework for everyone.\n",
            "Home-page: https://www.tensorflow.org/\n",
            "Author: Google Inc.\n",
            "Author-email: packages@tensorflow.org\n",
            "License: Apache 2.0\n",
            "Location: /usr/local/lib/python3.8/dist-packages\n",
            "Requires: astunparse, h5py, keras, wrapt, numpy, six, libclang, protobuf, opt-einsum, tensorflow-io-gcs-filesystem, packaging, tensorboard, typing-extensions, keras-preprocessing, setuptools, tensorflow-estimator, absl-py, google-pasta, grpcio, flatbuffers, gast, termcolor\n",
            "Required-by: kapre\n"
          ]
        }
      ]
    },
    {
      "cell_type": "code",
      "source": [],
      "metadata": {
        "id": "AvM8C2t7FngR"
      },
      "execution_count": null,
      "outputs": []
    }
  ]
}